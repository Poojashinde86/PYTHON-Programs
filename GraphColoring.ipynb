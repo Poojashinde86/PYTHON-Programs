{
 "cells": [
  {
   "cell_type": "code",
   "execution_count": 13,
   "id": "ce306183",
   "metadata": {},
   "outputs": [
    {
     "name": "stdout",
     "output_type": "stream",
     "text": [
      "{'Andhra': 'Red', 'Karnataka': 'Red', 'TamilNadu': 'Red', 'Kerala': 'Blue'}\n"
     ]
    }
   ],
   "source": [
    "colors = ['Red', 'Blue', 'Green', 'Yellow', 'Black']\n",
    "states = ['Andhra', 'Karnataka', 'TamilNadu', 'Kerala']\n",
    "neighbors = {}\n",
    "neighbors['Andhra'] = ['Karnataka', 'TamilNadu']\n",
    "neighbors['Karnataka'] = ['Andhra', 'TamilNadu', 'Kerala']\n",
    "neighbors['TamilNadu'] = ['Andhra', 'Karnataka', 'Kerala']\n",
    "neighbors['Kerala'] = ['Karnataka', 'TamilNadu']\n",
    "colors_of_states = {}\n",
    "def promising(state, color):\n",
    " for neighbor in neighbors.get(state): \n",
    "  color_of_neighbor = colors_of_states.get(neighbor)\n",
    " if color_of_neighbor == color:\n",
    "   return False\n",
    " return True\n",
    "def get_color_for_state(state):\n",
    " for color in colors:\n",
    "   if promising(state, color):\n",
    "    return color\n",
    "def main():\n",
    " for state in states:\n",
    "  colors_of_states[state] = get_color_for_state(state)\n",
    " print( colors_of_states)\n",
    "main()\n"
   ]
  },
  {
   "cell_type": "code",
   "execution_count": null,
   "id": "a76017ef",
   "metadata": {},
   "outputs": [],
   "source": []
  }
 ],
 "metadata": {
  "kernelspec": {
   "display_name": "Python 3 (ipykernel)",
   "language": "python",
   "name": "python3"
  },
  "language_info": {
   "codemirror_mode": {
    "name": "ipython",
    "version": 3
   },
   "file_extension": ".py",
   "mimetype": "text/x-python",
   "name": "python",
   "nbconvert_exporter": "python",
   "pygments_lexer": "ipython3",
   "version": "3.9.7"
  }
 },
 "nbformat": 4,
 "nbformat_minor": 5
}
