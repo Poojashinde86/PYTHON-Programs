{
 "cells": [
  {
   "cell_type": "code",
   "execution_count": 9,
   "metadata": {},
   "outputs": [
    {
     "name": "stdout",
     "output_type": "stream",
     "text": [
      "Enter the number of terms needed: 9\n",
      "0 1 1 2 3 5 8 13 21 \n",
      "Time Complexity: O(n) or Linear\n",
      "\n",
      "Space Complexity: O(1)\n"
     ]
    }
   ],
   "source": [
    "#Fibonacci Series using without Recursion\n",
    "a=0\n",
    "b=1\n",
    "n=int(input(\"Enter the number of terms needed: \"))\n",
    "print(a,b,end=\" \")\n",
    "while(n-2):\n",
    "    c=a+b\n",
    "    a=b\n",
    "    b=c\n",
    "    print(c,end=\" \")\n",
    "    n=n-1\n",
    "print(\"\\nTime Complexity: O(n) or Linear\")\n",
    "print(\"\\nSpace Complexity: O(1)\")"
   ]
  },
  {
   "cell_type": "code",
   "execution_count": 1,
   "metadata": {},
   "outputs": [
    {
     "name": "stdout",
     "output_type": "stream",
     "text": [
      "34\n",
      "\n",
      "Time Complexity: O(2^n) or exponential.\n",
      "\n",
      "Space Complexity: O(n) if we consider the function call stack size, otherwise O(1).\n"
     ]
    }
   ],
   "source": [
    "# Fibonacci series using recursion\n",
    "def fibonacci(n):\n",
    "    if n <= 1:\n",
    "        return n\n",
    "    return fibonacci(n-1) + fibonacci(n-2)\n",
    " \n",
    " \n",
    "if __name__ == \"__main__\":\n",
    "    n = 9\n",
    "    print(fibonacci(n))\n",
    "\n",
    "print(\"\\nTime Complexity: O(2^n) or exponential.\")\n",
    "print(\"\\nSpace Complexity: O(n) if we consider the function call stack size, otherwise O(1).\")"
   ]
  },
  {
   "cell_type": "code",
   "execution_count": 7,
   "metadata": {},
   "outputs": [
    {
     "name": "stdout",
     "output_type": "stream",
     "text": [
      "34\n",
      "\n",
      "Time complexity: O(n) for given n\n",
      "\n",
      "Auxiliary space: O(n)\n"
     ]
    }
   ],
   "source": [
    "# Fibonacci Series using Dynamic Programming\n",
    "def fibonacci(n):\n",
    "     \n",
    "    # Taking 1st two fibonacci numbers as 0 and 1\n",
    "    f = [0, 1]\n",
    "     \n",
    "     \n",
    "    for i in range(2, n+1):\n",
    "        f.append(f[i-1] + f[i-2])\n",
    "    return f[n]\n",
    "     \n",
    "print(fibonacci(9))\n",
    "print(\"\\nTime complexity: O(n) for given n\")\n",
    "print(\"\\nAuxiliary space: O(n)\")"
   ]
  },
  {
   "cell_type": "code",
   "execution_count": 2,
   "metadata": {},
   "outputs": [
    {
     "name": "stdout",
     "output_type": "stream",
     "text": [
      "Enter number of terms:5\n",
      "Fibonacci sequence:\n",
      "0\n",
      "1\n",
      "1\n",
      "2\n",
      "3\n",
      "\n",
      "Time Complexity: O(2^n) or exponential.\n",
      "\n",
      "Space Complexity: O(n) if we consider the function call stack size, otherwise O(1).\n"
     ]
    }
   ],
   "source": [
    "# Fibonacci series using recursion\n",
    "def fibonacci(n):\n",
    "    if(n <= 1):\n",
    "        return n\n",
    "    else:\n",
    "        return(fibonacci(n-1) + fibonacci(n-2))\n",
    "n = int(input(\"Enter number of terms:\"))\n",
    "print(\"Fibonacci sequence:\")\n",
    "for i in range(n):\n",
    "    print(fibonacci(i))\n",
    "    \n",
    "\n",
    "print(\"\\nTime Complexity: O(2^n) or exponential.\")\n",
    "print(\"\\nSpace Complexity: O(n) if we consider the function call stack size, otherwise O(1).\")"
   ]
  },
  {
   "cell_type": "code",
   "execution_count": null,
   "metadata": {},
   "outputs": [],
   "source": []
  }
 ],
 "metadata": {
  "kernelspec": {
   "display_name": "Python 3 (ipykernel)",
   "language": "python",
   "name": "python3"
  },
  "language_info": {
   "codemirror_mode": {
    "name": "ipython",
    "version": 3
   },
   "file_extension": ".py",
   "mimetype": "text/x-python",
   "name": "python",
   "nbconvert_exporter": "python",
   "pygments_lexer": "ipython3",
   "version": "3.11.0"
  }
 },
 "nbformat": 4,
 "nbformat_minor": 4
}
